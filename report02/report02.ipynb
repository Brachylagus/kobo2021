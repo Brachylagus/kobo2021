{
 "cells": [
  {
   "cell_type": "code",
   "execution_count": 1,
   "id": "97b0a051",
   "metadata": {},
   "outputs": [],
   "source": [
    "import numpy as np\n",
    "\n",
    "def sigmoid(x):\n",
    "    return 1.0 / ( 1.0 + np.exp(-x))\n",
    "\n",
    "def softmax(a):\n",
    "    x = np.exp(a)\n",
    "    u = np.sum(x)\n",
    "    return x/u"
   ]
  },
  {
   "cell_type": "code",
   "execution_count": 11,
   "id": "8b5e00ae",
   "metadata": {},
   "outputs": [
    {
     "name": "stdout",
     "output_type": "stream",
     "text": [
      "[[0.31682708 0.69627909]]\n"
     ]
    }
   ],
   "source": [
    "def init_network():\n",
    "    network={}\n",
    "    network['W1'] = np.array([[0.1, 0.3, 0.5], [0.2, 0.4, 0.6]])\n",
    "    network['b1'] = np.array([[0.1, 0.2, 0.3]])\n",
    "    network['W2'] = np.array([[0.1, 0.4], [0.2, 0.5], [0.3, 0.6]])\n",
    "    network['b2'] = np.array([[0.1, 0.2]])\n",
    "    network['W3'] = np.array([[0.1, 0.3], [0.2, 0.4]])\n",
    "    network['b3'] = np.array([[0.1, 0.2]])\n",
    "    return network\n",
    "\n",
    "def forward(network, x):\n",
    "    # layer1\n",
    "    W1=network['W1']\n",
    "    b1=network['b1']\n",
    "    a1=np.dot(x,W1)+b1\n",
    "    z1=sigmoid(a1)\n",
    "    \n",
    "    # layer2\n",
    "    W2=network['W2']\n",
    "    b2=network['b2']\n",
    "    a2=np.dot(z1,W2)+b2\n",
    "    z2=sigmoid(a2)\n",
    "    \n",
    "    # layer3\n",
    "    W3=network['W3']\n",
    "    b3=network['b3']\n",
    "    a3=np.dot(z2,W3)+b3\n",
    "    y=a3\n",
    "    return y\n",
    "\n",
    "network = init_network()\n",
    "x=np.array([1.0,0.5])\n",
    "y=forward(network,x)\n",
    "\n",
    "print(y) #[0.31682708 0.69627909]\n"
   ]
  },
  {
   "cell_type": "markdown",
   "id": "e3a081a7",
   "metadata": {},
   "source": [
    "正しく表示された。"
   ]
  },
  {
   "cell_type": "code",
   "execution_count": 12,
   "id": "84a5e935",
   "metadata": {},
   "outputs": [
    {
     "name": "stdout",
     "output_type": "stream",
     "text": [
      "[[0.31653657 0.69562034]\n",
      " [0.31410151 0.6902148 ]\n",
      " [0.3127789  0.68727707]\n",
      " [0.31056654 0.68237021]\n",
      " [0.31428455 0.6906256 ]\n",
      " [0.31423742 0.69051759]\n",
      " [0.31253763 0.68674868]\n",
      " [0.31695822 0.69656127]]\n"
     ]
    }
   ],
   "source": [
    "import numpy as np\n",
    "import random  \n",
    "network = init_network()\n",
    "batch_size = 16\n",
    "x=np.random.rand(1000,2)\n",
    "for i in range(0,len(x),batch_size):\n",
    "    x_batch = x[i:i+batch_size]\n",
    "    y_batch = forward(network,x_batch)\n",
    "    \n",
    "# y_batchを表示してみると\n",
    "print(y_batch)"
   ]
  },
  {
   "cell_type": "markdown",
   "id": "8bb6891b",
   "metadata": {},
   "source": [
    "複数の処理が同時にできていることが確認できる。"
   ]
  },
  {
   "cell_type": "markdown",
   "id": "8df50fbb",
   "metadata": {},
   "source": [
    "### 感想\n",
    "脳神経間の伝達が計算で再現できることに感動した。\n",
    "知能とは何なのか疑わしくなってくる。\n",
    "\n",
    "### 参考文献\n",
    "[深層学習による画像認識・生成](https://www.inf.uec.ac.jp/kobo2021/?%E6%B7%B1%E5%B1%A4%E5%AD%A6%E7%BF%92%E3%81%AB%E3%82%88%E3%82%8B%E7%94%BB%E5%83%8F%E8%AA%8D%E8%AD%98%E3%83%BB%E7%94%9F%E6%88%90)"
   ]
  }
 ],
 "metadata": {
  "kernelspec": {
   "display_name": "Python 3",
   "language": "python",
   "name": "python3"
  },
  "language_info": {
   "codemirror_mode": {
    "name": "ipython",
    "version": 3
   },
   "file_extension": ".py",
   "mimetype": "text/x-python",
   "name": "python",
   "nbconvert_exporter": "python",
   "pygments_lexer": "ipython3",
   "version": "3.9.2"
  }
 },
 "nbformat": 4,
 "nbformat_minor": 5
}
