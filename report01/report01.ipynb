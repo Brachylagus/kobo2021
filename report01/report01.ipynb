{
 "cells": [
  {
   "cell_type": "code",
   "execution_count": 1,
   "id": "bfdc990a",
   "metadata": {},
   "outputs": [],
   "source": [
    "import numpy as np"
   ]
  },
  {
   "cell_type": "code",
   "execution_count": 2,
   "id": "4e8855c9",
   "metadata": {},
   "outputs": [],
   "source": [
    "def AND(x1, x2):\n",
    "    x = np.array([x1, x2])\n",
    "    w = np.array([0.5, 0.5])\n",
    "    b = -0.5\n",
    "    y = np.sum(w*x) + b\n",
    "    if y <= 0:\n",
    "        return 0\n",
    "    else:\n",
    "        return 1\n",
    "\n",
    "\n",
    "def NAND(x1, x2):\n",
    "    return int(not AND(x1, x2))# ANDの補集合であるから\n",
    "\n",
    "\n",
    "def OR(x1, x2):\n",
    "    x = np.array([x1, x2])\n",
    "    w = np.array([1, 1])\n",
    "    b = 0\n",
    "    y = np.sum(w*x) + b\n",
    "    if y <= 0:\n",
    "        return 0\n",
    "    else:\n",
    "        return 1\n",
    "\n",
    "\n",
    "def XOR(x1, x2):\n",
    "    return AND(NAND(x1, x2), OR(x1, x2))# NANDとORの共通部分であるから"
   ]
  },
  {
   "cell_type": "code",
   "execution_count": 3,
   "id": "599cac03",
   "metadata": {
    "scrolled": true
   },
   "outputs": [
    {
     "name": "stdout",
     "output_type": "stream",
     "text": [
      "AND\n",
      "0\n",
      "0\n",
      "0\n",
      "1\n",
      "NAND\n",
      "1\n",
      "1\n",
      "1\n",
      "0\n",
      "OR\n",
      "0\n",
      "1\n",
      "1\n",
      "1\n",
      "XOR\n",
      "0\n",
      "1\n",
      "1\n",
      "0\n"
     ]
    }
   ],
   "source": [
    "functions = [AND, NAND, OR, XOR]\n",
    "inputs = [[0, 0], [1, 0], [0, 1], [1, 1]]\n",
    "\n",
    "for func in functions:\n",
    "    print(func.__name__)\n",
    "    for index in range(4):\n",
    "        args = inputs[index]\n",
    "        print(func(*args))"
   ]
  },
  {
   "cell_type": "markdown",
   "id": "0a06b126",
   "metadata": {},
   "source": [
    "### 感想\n",
    "高校一年生に戻った気分です。\n",
    "\n",
    "### 参考文献\n",
    "[深層学習による画像認識・生成](https://www.inf.uec.ac.jp/kobo2021/?%E6%B7%B1%E5%B1%A4%E5%AD%A6%E7%BF%92%E3%81%AB%E3%82%88%E3%82%8B%E7%94%BB%E5%83%8F%E8%AA%8D%E8%AD%98%E3%83%BB%E7%94%9F%E6%88%90/)"
   ]
  }
 ],
 "metadata": {
  "kernelspec": {
   "display_name": "Python 3",
   "language": "python",
   "name": "python3"
  },
  "language_info": {
   "codemirror_mode": {
    "name": "ipython",
    "version": 3
   },
   "file_extension": ".py",
   "mimetype": "text/x-python",
   "name": "python",
   "nbconvert_exporter": "python",
   "pygments_lexer": "ipython3",
   "version": "3.9.2"
  }
 },
 "nbformat": 4,
 "nbformat_minor": 5
}
